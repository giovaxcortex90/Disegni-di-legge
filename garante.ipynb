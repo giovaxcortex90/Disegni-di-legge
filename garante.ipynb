{
 "cells": [
  {
   "cell_type": "markdown",
   "id": "af01104a-21a9-42e0-9a90-2a3630b4deba",
   "metadata": {},
   "source": [
    "# Raggruppamento automatizzato di emendamenti simili del disegno di legge del Garante per la protezione dei dati personali e dei diritti umani"
   ]
  },
  {
   "cell_type": "markdown",
   "id": "ce28c6ba-7836-42d5-962a-67198dc58699",
   "metadata": {},
   "source": [
    "In questo elaborato vengono raggruppati e analizzati gli emendamenti simili\n",
    "del disegno legge del \"garante della privacy\" ed eliminate quelle superflue. \n",
    "Istituzione del Garante per la protezione dei dati personali e dei diritti umani attraverso l'assegnazione al Garante per la protezione dei dati personali dei compiti di istituzione nazionale indipendente per la protezione e promozione dei diritti umani.\n",
    "Nell'ambito tecnico lo sviluppo è simile al file cirinna.ipynb cambia solo la fonte del sito \"https://www.senato.it/leg/19/BGT/Schede/Ddliter/testi/56026_testi.htm\" e la destinazione del file json chiamato EmandamentiGarante.json\n",
    "In questo caso non ci sono emendamenti da scarica quindi si stampa una stringa \"Vuoto!, non ci sono emendamenti in merito\" ed il programma termina."
   ]
  },
  {
   "cell_type": "code",
   "execution_count": 18,
   "id": "d72da4c3",
   "metadata": {},
   "outputs": [],
   "source": [
    "import os\n",
    "import re\n",
    "from itertools import combinations\n",
    "import xml.etree.ElementTree as ET\n",
    "\n",
    "from matplotlib import pyplot as plt\n",
    "from scipy.cluster.hierarchy import dendrogram, linkage"
   ]
  },
  {
   "cell_type": "code",
   "execution_count": 19,
   "id": "3ba2e794",
   "metadata": {},
   "outputs": [],
   "source": [
    "%matplotlib inline"
   ]
  },
  {
   "cell_type": "code",
   "execution_count": 20,
   "id": "2d01ca11",
   "metadata": {},
   "outputs": [],
   "source": [
    "DATA_FOLDER = 'data/garante'\n",
    "NAMESPACE = {'an': 'http://docs.oasis-open.org/legaldocml/ns/akn/3.0/CSD03'}\n",
    "ALPHANUM_REGEX = re.compile('[\\W+]', re.UNICODE)"
   ]
  },
  {
   "cell_type": "code",
   "execution_count": 21,
   "id": "2d84a5cf",
   "metadata": {},
   "outputs": [],
   "source": [
    "def to_tokens(s):\n",
    "    return set(ALPHANUM_REGEX.sub(' ', s).lower().split())"
   ]
  },
  {
   "cell_type": "code",
   "execution_count": 22,
   "id": "b6e6da7d",
   "metadata": {},
   "outputs": [],
   "source": [
    "def jaccard_distance(x, y):    \n",
    "    return 1 - (len(x['tokens'] & y['tokens']) / len(x['tokens'] | y['tokens']))"
   ]
  },
  {
   "cell_type": "code",
   "execution_count": 23,
   "id": "ffe2e8d3",
   "metadata": {},
   "outputs": [],
   "source": [
    "amendments = []\n",
    "\n",
    "for filename in sorted(os.listdir(DATA_FOLDER)):\n",
    "    if filename.startswith('.'):\n",
    "        continue\n",
    "\n",
    "    tree = ET.parse(os.path.join(DATA_FOLDER, filename))\n",
    "\n",
    "    _id = tree.find('.//an:FRBRnumber', NAMESPACE).get('value')\n",
    "    authors = [el.text for el in tree.findall('.//an:docProponent', NAMESPACE)]\n",
    "    raw = ' '.join(tree.find('.//an:amendmentContent', NAMESPACE).itertext())\n",
    "    tokens = to_tokens(raw)\n",
    "\n",
    "    amendments.append({'_id': _id, 'authors': authors, 'raw': raw, 'tokens': tokens})"
   ]
  },
  {
   "cell_type": "code",
   "execution_count": 24,
   "id": "95fb8c49",
   "metadata": {},
   "outputs": [],
   "source": [
    "distances = [jaccard_distance(x, y) for x, y in combinations(amendments, 2)]\n",
    "labels = [amendment['_id'] for amendment in amendments]"
   ]
  },
  {
   "cell_type": "code",
   "execution_count": null,
   "id": "8fd453f7-7f0c-46c5-9799-8cf577d3724b",
   "metadata": {},
   "outputs": [],
   "source": []
  },
  {
   "cell_type": "code",
   "execution_count": 47,
   "id": "30ae43b3-a971-47db-b017-231a4b317643",
   "metadata": {},
   "outputs": [],
   "source": [
    "first_amendments = amendments[:100]\n",
    "first_distances = [jaccard_distance(x, y) for x, y in combinations(first_amendments, 2)]"
   ]
  },
  {
   "cell_type": "code",
   "execution_count": 48,
   "id": "c39fd080",
   "metadata": {},
   "outputs": [
    {
     "ename": "ValueError",
     "evalue": "The number of observations cannot be determined on an empty distance matrix.",
     "output_type": "error",
     "traceback": [
      "\u001b[1;31m---------------------------------------------------------------------------\u001b[0m",
      "\u001b[1;31mValueError\u001b[0m                                Traceback (most recent call last)",
      "Input \u001b[1;32mIn [48]\u001b[0m, in \u001b[0;36m<cell line: 1>\u001b[1;34m()\u001b[0m\n\u001b[1;32m----> 1\u001b[0m Z_first \u001b[38;5;241m=\u001b[39m \u001b[43mlinkage\u001b[49m\u001b[43m(\u001b[49m\u001b[43mfirst_distances\u001b[49m\u001b[43m,\u001b[49m\u001b[43m \u001b[49m\u001b[43mmethod\u001b[49m\u001b[38;5;241;43m=\u001b[39;49m\u001b[38;5;124;43m'\u001b[39;49m\u001b[38;5;124;43mcomplete\u001b[39;49m\u001b[38;5;124;43m'\u001b[39;49m\u001b[43m)\u001b[49m\n",
      "File \u001b[1;32m~\\anaconda3\\lib\\site-packages\\scipy\\cluster\\hierarchy.py:1068\u001b[0m, in \u001b[0;36mlinkage\u001b[1;34m(y, method, metric, optimal_ordering)\u001b[0m\n\u001b[0;32m   1064\u001b[0m \u001b[38;5;28;01mif\u001b[39;00m \u001b[38;5;129;01mnot\u001b[39;00m np\u001b[38;5;241m.\u001b[39mall(np\u001b[38;5;241m.\u001b[39misfinite(y)):\n\u001b[0;32m   1065\u001b[0m     \u001b[38;5;28;01mraise\u001b[39;00m \u001b[38;5;167;01mValueError\u001b[39;00m(\u001b[38;5;124m\"\u001b[39m\u001b[38;5;124mThe condensed distance matrix must contain only \u001b[39m\u001b[38;5;124m\"\u001b[39m\n\u001b[0;32m   1066\u001b[0m                      \u001b[38;5;124m\"\u001b[39m\u001b[38;5;124mfinite values.\u001b[39m\u001b[38;5;124m\"\u001b[39m)\n\u001b[1;32m-> 1068\u001b[0m n \u001b[38;5;241m=\u001b[39m \u001b[38;5;28mint\u001b[39m(\u001b[43mdistance\u001b[49m\u001b[38;5;241;43m.\u001b[39;49m\u001b[43mnum_obs_y\u001b[49m\u001b[43m(\u001b[49m\u001b[43my\u001b[49m\u001b[43m)\u001b[49m)\n\u001b[0;32m   1069\u001b[0m method_code \u001b[38;5;241m=\u001b[39m _LINKAGE_METHODS[method]\n\u001b[0;32m   1071\u001b[0m \u001b[38;5;28;01mif\u001b[39;00m method \u001b[38;5;241m==\u001b[39m \u001b[38;5;124m'\u001b[39m\u001b[38;5;124msingle\u001b[39m\u001b[38;5;124m'\u001b[39m:\n",
      "File \u001b[1;32m~\\anaconda3\\lib\\site-packages\\scipy\\spatial\\distance.py:2555\u001b[0m, in \u001b[0;36mnum_obs_y\u001b[1;34m(Y)\u001b[0m\n\u001b[0;32m   2553\u001b[0m k \u001b[38;5;241m=\u001b[39m Y\u001b[38;5;241m.\u001b[39mshape[\u001b[38;5;241m0\u001b[39m]\n\u001b[0;32m   2554\u001b[0m \u001b[38;5;28;01mif\u001b[39;00m k \u001b[38;5;241m==\u001b[39m \u001b[38;5;241m0\u001b[39m:\n\u001b[1;32m-> 2555\u001b[0m     \u001b[38;5;28;01mraise\u001b[39;00m \u001b[38;5;167;01mValueError\u001b[39;00m(\u001b[38;5;124m\"\u001b[39m\u001b[38;5;124mThe number of observations cannot be determined on \u001b[39m\u001b[38;5;124m\"\u001b[39m\n\u001b[0;32m   2556\u001b[0m                      \u001b[38;5;124m\"\u001b[39m\u001b[38;5;124man empty distance matrix.\u001b[39m\u001b[38;5;124m\"\u001b[39m)\n\u001b[0;32m   2557\u001b[0m d \u001b[38;5;241m=\u001b[39m \u001b[38;5;28mint\u001b[39m(np\u001b[38;5;241m.\u001b[39mceil(np\u001b[38;5;241m.\u001b[39msqrt(k \u001b[38;5;241m*\u001b[39m \u001b[38;5;241m2\u001b[39m)))\n\u001b[0;32m   2558\u001b[0m \u001b[38;5;28;01mif\u001b[39;00m (d \u001b[38;5;241m*\u001b[39m (d \u001b[38;5;241m-\u001b[39m \u001b[38;5;241m1\u001b[39m) \u001b[38;5;241m/\u001b[39m \u001b[38;5;241m2\u001b[39m) \u001b[38;5;241m!=\u001b[39m k:\n",
      "\u001b[1;31mValueError\u001b[0m: The number of observations cannot be determined on an empty distance matrix."
     ]
    }
   ],
   "source": [
    "\n",
    "Z_first = linkage(first_distances, method='complete')\n"
   ]
  },
  {
   "cell_type": "code",
   "execution_count": null,
   "id": "b34e8c16",
   "metadata": {},
   "outputs": [
    {
     "ename": "ValueError",
     "evalue": "The number of observations cannot be determined on an empty distance matrix.",
     "output_type": "error",
     "traceback": [
      "\u001b[1;31m---------------------------------------------------------------------------\u001b[0m",
      "\u001b[1;31mValueError\u001b[0m                                Traceback (most recent call last)",
      "Input \u001b[1;32mIn [46]\u001b[0m, in \u001b[0;36m<cell line: 1>\u001b[1;34m()\u001b[0m\n\u001b[1;32m----> 1\u001b[0m Z_all \u001b[38;5;241m=\u001b[39m \u001b[43mlinkage\u001b[49m\u001b[43m(\u001b[49m\u001b[43mdistances\u001b[49m\u001b[43m,\u001b[49m\u001b[43m \u001b[49m\u001b[43mmethod\u001b[49m\u001b[38;5;241;43m=\u001b[39;49m\u001b[38;5;124;43m'\u001b[39;49m\u001b[38;5;124;43mcomplete\u001b[39;49m\u001b[38;5;124;43m'\u001b[39;49m\u001b[43m)\u001b[49m\n",
      "File \u001b[1;32m~\\anaconda3\\lib\\site-packages\\scipy\\cluster\\hierarchy.py:1068\u001b[0m, in \u001b[0;36mlinkage\u001b[1;34m(y, method, metric, optimal_ordering)\u001b[0m\n\u001b[0;32m   1064\u001b[0m \u001b[38;5;28;01mif\u001b[39;00m \u001b[38;5;129;01mnot\u001b[39;00m np\u001b[38;5;241m.\u001b[39mall(np\u001b[38;5;241m.\u001b[39misfinite(y)):\n\u001b[0;32m   1065\u001b[0m     \u001b[38;5;28;01mraise\u001b[39;00m \u001b[38;5;167;01mValueError\u001b[39;00m(\u001b[38;5;124m\"\u001b[39m\u001b[38;5;124mThe condensed distance matrix must contain only \u001b[39m\u001b[38;5;124m\"\u001b[39m\n\u001b[0;32m   1066\u001b[0m                      \u001b[38;5;124m\"\u001b[39m\u001b[38;5;124mfinite values.\u001b[39m\u001b[38;5;124m\"\u001b[39m)\n\u001b[1;32m-> 1068\u001b[0m n \u001b[38;5;241m=\u001b[39m \u001b[38;5;28mint\u001b[39m(\u001b[43mdistance\u001b[49m\u001b[38;5;241;43m.\u001b[39;49m\u001b[43mnum_obs_y\u001b[49m\u001b[43m(\u001b[49m\u001b[43my\u001b[49m\u001b[43m)\u001b[49m)\n\u001b[0;32m   1069\u001b[0m method_code \u001b[38;5;241m=\u001b[39m _LINKAGE_METHODS[method]\n\u001b[0;32m   1071\u001b[0m \u001b[38;5;28;01mif\u001b[39;00m method \u001b[38;5;241m==\u001b[39m \u001b[38;5;124m'\u001b[39m\u001b[38;5;124msingle\u001b[39m\u001b[38;5;124m'\u001b[39m:\n",
      "File \u001b[1;32m~\\anaconda3\\lib\\site-packages\\scipy\\spatial\\distance.py:2555\u001b[0m, in \u001b[0;36mnum_obs_y\u001b[1;34m(Y)\u001b[0m\n\u001b[0;32m   2553\u001b[0m k \u001b[38;5;241m=\u001b[39m Y\u001b[38;5;241m.\u001b[39mshape[\u001b[38;5;241m0\u001b[39m]\n\u001b[0;32m   2554\u001b[0m \u001b[38;5;28;01mif\u001b[39;00m k \u001b[38;5;241m==\u001b[39m \u001b[38;5;241m0\u001b[39m:\n\u001b[1;32m-> 2555\u001b[0m     \u001b[38;5;28;01mraise\u001b[39;00m \u001b[38;5;167;01mValueError\u001b[39;00m(\u001b[38;5;124m\"\u001b[39m\u001b[38;5;124mThe number of observations cannot be determined on \u001b[39m\u001b[38;5;124m\"\u001b[39m\n\u001b[0;32m   2556\u001b[0m                      \u001b[38;5;124m\"\u001b[39m\u001b[38;5;124man empty distance matrix.\u001b[39m\u001b[38;5;124m\"\u001b[39m)\n\u001b[0;32m   2557\u001b[0m d \u001b[38;5;241m=\u001b[39m \u001b[38;5;28mint\u001b[39m(np\u001b[38;5;241m.\u001b[39mceil(np\u001b[38;5;241m.\u001b[39msqrt(k \u001b[38;5;241m*\u001b[39m \u001b[38;5;241m2\u001b[39m)))\n\u001b[0;32m   2558\u001b[0m \u001b[38;5;28;01mif\u001b[39;00m (d \u001b[38;5;241m*\u001b[39m (d \u001b[38;5;241m-\u001b[39m \u001b[38;5;241m1\u001b[39m) \u001b[38;5;241m/\u001b[39m \u001b[38;5;241m2\u001b[39m) \u001b[38;5;241m!=\u001b[39m k:\n",
      "\u001b[1;31mValueError\u001b[0m: The number of observations cannot be determined on an empty distance matrix."
     ]
    }
   ],
   "source": [
    "Z_all = linkage(distances, method='complete')"
   ]
  },
  {
   "cell_type": "code",
   "execution_count": null,
   "id": "41d44767",
   "metadata": {},
   "outputs": [],
   "source": [
    "plt.figure(figsize=(25, 250))\n",
    "plt.title('Z_all')\n",
    "dendrogram(\n",
    "    Z_all,\n",
    "    labels=labels,\n",
    "    orientation='right',\n",
    "    leaf_font_size=12.,\n",
    ")\n",
    "plt.show()"
   ]
  },
  {
   "cell_type": "code",
   "execution_count": null,
   "id": "56d9461c-0846-4e3d-85f7-dc7e401e8df6",
   "metadata": {},
   "outputs": [],
   "source": [
    "for i in [77, 72, 68, 64, 60, 56, 52, 48, 92, 89, 84, 80, 96]:\n",
    "    print('{i}: {snippet}'.format(i=i, snippet=first_amendments[i]['raw'][:76]))"
   ]
  },
  {
   "cell_type": "code",
   "execution_count": null,
   "id": "f5f0db84-3724-4774-a4fd-852fa6fb9895",
   "metadata": {},
   "outputs": [],
   "source": [
    "for i in [78, 73, 69, 65, 61, 57, 53, 49, 93, 90, 85, 81]:\n",
    "    print('{i}: {snippet}'.format(i=i, snippet=first_amendments[i]['raw'][:76]))"
   ]
  },
  {
   "cell_type": "code",
   "execution_count": null,
   "id": "7ac5692b-66d3-4acc-886b-9273a5fad493",
   "metadata": {},
   "outputs": [],
   "source": [
    "import json\n",
    "nameFile = \"EmendamentiZan.json\"\n",
    "#print(first_amendments)\n",
    "data_str = json.dumps(first_amendments, default=lambda x: list(x) if isinstance(x, set) else x)\n",
    "# Writing to sample.json\n",
    "\n",
    "with open(nameFile, \"w\") as outfile:\n",
    "    outfile.write(data_str)"
   ]
  },
  {
   "cell_type": "code",
   "execution_count": null,
   "id": "3c5bf346-3929-4ef1-aba2-3b03c4429ad1",
   "metadata": {},
   "outputs": [],
   "source": [
    "distances = [jaccard_distance(x, y) for x, y in combinations(amendments, 2)]"
   ]
  },
  {
   "cell_type": "code",
   "execution_count": null,
   "id": "c0dd342f-2c17-464c-b94e-5af0e50a1356",
   "metadata": {},
   "outputs": [],
   "source": [
    "Z_all = linkage(distances, method='complete')"
   ]
  },
  {
   "cell_type": "code",
   "execution_count": null,
   "id": "c6f0cbf6-46c5-4552-a7f3-8e97709f3617",
   "metadata": {},
   "outputs": [],
   "source": [
    "plt.figure(figsize=(25, 10))\n",
    "plt.title('Z_all')\n",
    "dendrogram(\n",
    "    Z_all,\n",
    "    no_labels=True,\n",
    ")\n",
    "plt.show()"
   ]
  },
  {
   "cell_type": "code",
   "execution_count": null,
   "id": "d55bb85e-d832-4644-accf-3fdfcd5d0153",
   "metadata": {},
   "outputs": [],
   "source": []
  }
 ],
 "metadata": {
  "kernelspec": {
   "display_name": "Python 3 (ipykernel)",
   "language": "python",
   "name": "python3"
  },
  "language_info": {
   "codemirror_mode": {
    "name": "ipython",
    "version": 3
   },
   "file_extension": ".py",
   "mimetype": "text/x-python",
   "name": "python",
   "nbconvert_exporter": "python",
   "pygments_lexer": "ipython3",
   "version": "3.9.7"
  }
 },
 "nbformat": 4,
 "nbformat_minor": 5
}
